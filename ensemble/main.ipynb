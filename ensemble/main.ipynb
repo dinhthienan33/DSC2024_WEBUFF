import json
import pandas as pd
from collections import Counter
from typing import Dict, List

# Robustly load result mappings from JSON files with nested {"results": {...}}
def load_results_mapping(path: str) -> Dict[str, str]:
    with open(path, "r") as f:
        data = json.load(f)
    if isinstance(data, dict) and "results" in data and isinstance(data["results"], dict):
        return {str(k): v for k, v in data["results"].items()}
    raise ValueError(f"Unexpected schema in {path}. Expected an object with a 'results' mapping.")

clip_dict = load_results_mapping("clip.json")
clipv2_dict = load_results_mapping("clipv2.json")
visobertbeit_dict = load_results_mapping("visobertbeit.json")

# Voting by ID alignment, not by position
def voting_method_by_id(*dicts: List[Dict[str, str]]) -> Dict[str, str]:
    if not dicts:
        return {}
    common_ids = set(dicts[0].keys())
    for d in dicts[1:]:
        common_ids &= set(d.keys())
    if not common_ids:
        raise ValueError("No common IDs across input predictions for voting.")

    # Sort numeric-like keys numerically for deterministic order; otherwise lexicographically
    def sort_key(k: str):
        return (0, int(k)) if k.isdigit() else (1, k)

    final = {}
    for sample_id in sorted(common_ids, key=sort_key):
        labels = [d[sample_id] for d in dicts]
        voted = Counter(labels).most_common(1)[0][0]
        final[sample_id] = voted
    return final

final_results_dict = voting_method_by_id(visobertbeit_dict, clipv2_dict, clip_dict)

# Save the final results to a JSON file, preserving original IDs
output = {
    "results": final_results_dict,
    "phase": "test"
}

with open('results.json', 'w') as f:
    json.dump(output, f, indent=4)

print("Inference completed. Results saved.")

# Preview few entries
preview_df = pd.DataFrame({"id": list(final_results_dict.keys())[:5],
                           "results": [final_results_dict[k] for k in list(final_results_dict.keys())[:5]]})
print(preview_df){
 "cells": [
  {
   "cell_type": "code",
   "execution_count": 2,
   "metadata": {},
   "outputs": [
    {
     "name": "stdout",
     "output_type": "stream",
     "text": [
      "         results\n",
      "0    not-sarcasm\n",
      "1    not-sarcasm\n",
      "2    not-sarcasm\n",
      "3    not-sarcasm\n",
      "4  multi-sarcasm\n"
     ]
    }
   ],
   "source": [
    "import pandas as pd\n",
    "from collections import Counter\n",
    "\n",
    "# Read the JSON files\n",
    "clip = pd.read_json(\"clip.json\", orient='records')\n",
    "clipv2 = pd.read_json(\"clipv2.json\", orient='records')\n",
    "visobertbeit = pd.read_json(\"visobertbeit.json\", orient='records')\n",
    "# Assuming each DataFrame has a column named 'label'\n",
    "def voting_method(df1, df2, df3):\n",
    "    final_labels = []\n",
    "    for i in range(len(df1)):\n",
    "        labels = [df1.iloc[i]['results'], df2.iloc[i]['results'], df3.iloc[i]['results']]\n",
    "        most_common_label = Counter(labels).most_common(1)[0][0]\n",
    "        final_labels.append(most_common_label)\n",
    "    \n",
    "    return pd.DataFrame(final_labels, columns=['results'])\n",
    "\n",
    "# Apply the voting method\n",
    "final_df = voting_method(visobertbeit, clipv2, clip)\n",
    "\n",
    "# Display the final DataFrame\n",
    "print(final_df.head())"
   ]
  },
  {
   "cell_type": "code",
   "execution_count": 3,
   "metadata": {},
   "outputs": [
    {
     "name": "stdout",
     "output_type": "stream",
     "text": [
      "Value counts for clip:\n",
      "results\n",
      "multi-sarcasm    852\n",
      "not-sarcasm      327\n",
      "image-sarcasm    325\n",
      "Name: count, dtype: int64\n",
      "\n",
      "Value counts for clipv2:\n",
      "results\n",
      "multi-sarcasm    1121\n",
      "not-sarcasm       272\n",
      "image-sarcasm     111\n",
      "Name: count, dtype: int64\n",
      "\n",
      "Value counts for visobertbeit:\n",
      "results\n",
      "multi-sarcasm    915\n",
      "not-sarcasm      490\n",
      "image-sarcasm     93\n",
      "text-sarcasm       6\n",
      "Name: count, dtype: int64\n"
     ]
    }
   ],
   "source": [
    "# Display the value counts for the 'label' column in each DataFrame\n",
    "print(\"Value counts for clip:\")\n",
    "print(clip['results'].value_counts())\n",
    "\n",
    "print(\"\\nValue counts for clipv2:\")\n",
    "print(clipv2['results'].value_counts())\n",
    "\n",
    "print(\"\\nValue counts for visobertbeit:\")\n",
    "print(visobertbeit['results'].value_counts())"
   ]
  },
  {
   "cell_type": "code",
   "execution_count": 5,
   "metadata": {},
   "outputs": [
    {
     "data": {
      "text/plain": [
       "results\n",
       "multi-sarcasm    1037\n",
       "not-sarcasm       365\n",
       "image-sarcasm     101\n",
       "text-sarcasm        1\n",
       "Name: count, dtype: int64"
      ]
     },
     "execution_count": 5,
     "metadata": {},
     "output_type": "execute_result"
    }
   ],
   "source": [
    "df = pd.read_json(\"results.json\", orient='records')\n",
    "df['results'].value_counts()\n"
   ]
  },
  {
   "cell_type": "code",
   "execution_count": null,
   "metadata": {},
   "outputs": [
    {
     "name": "stdout",
     "output_type": "stream",
     "text": [
      "Inference completed. Results saved.\n"
     ]
    }
   ],
   "source": [
    "import json\n",
    "# Save the final results to a JSON file\n",
    "output = {\n",
    "    \"results\": {str(idx): result for idx, result in enumerate(final_df['results'])},\n",
    "    \"phase\": \"test\"\n",
    "}\n",
    "\n",
    "with open('results.json', 'w') as f:\n",
    "    json.dump(output, f, indent=4)\n",
    "\n",
    "print(\"Inference completed. Results saved.\")"
   ]
  },
  {
   "cell_type": "code",
   "execution_count": null,
   "metadata": {},
   "outputs": [],
   "source": []
  },
  {
   "cell_type": "code",
   "execution_count": null,
   "metadata": {},
   "outputs": [],
   "source": []
  }
 ],
 "metadata": {
  "kernelspec": {
   "display_name": "base",
   "language": "python",
   "name": "python3"
  },
  "language_info": {
   "codemirror_mode": {
    "name": "ipython",
    "version": 3
   },
   "file_extension": ".py",
   "mimetype": "text/x-python",
   "name": "python",
   "nbconvert_exporter": "python",
   "pygments_lexer": "ipython3",
   "version": "3.12.4"
  }
 },
 "nbformat": 4,
 "nbformat_minor": 2
}
